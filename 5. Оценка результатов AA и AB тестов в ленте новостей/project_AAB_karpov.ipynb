{
 "cells": [
  {
   "cell_type": "markdown",
   "id": "0c1f8a29",
   "metadata": {},
   "source": [
    "# Задания на проведение A/A и A/B тестов\n",
    "\n",
    "К вам пришла команда ML, которая сделала некоторые новые алгоритмы рекомендаций новостей в ленте.  Ожидается, что новые алгоритмы сделают пользователей счастливее (то есть удлинится LTV, повысятся денежные конверсии и т.д.), а продукт удобнее/приятнее в использовании. Мы должны проверить эту гипотезу.\n",
    "\n",
    "Команда ML сказала нам «Рекомендации делают посты интереснее». **Сделано было два новых алгоритма рекомендаций:**  \n",
    "`1. Показываем пользователю посты, наиболее похожие на те, которые он лайкал.`  \n",
    "`2. Показываем пользователю посты, которые лайкали похожие на него пользователи.`\n",
    "\n",
    "**Ключевая метрика - CTR из просмотров в лайки**\n",
    "\n",
    "У нас параллельно идут два теста, оба – с **25 по 31 октября 2023**.\n",
    "\n",
    "Первый тест:\n",
    "* `exp_group = 1` - Все по-старому\n",
    "* `exp_group = 2` - Рекомендации \"похожих на лайкнутые постов\"\n",
    "\n",
    "Второй тест:\n",
    "* `exp_group = 0` – Все по-старому\n",
    "* `exp_group = 3` - Рекомендации \"постов, которые лайкали похожие на вас люди\""
   ]
  },
  {
   "cell_type": "markdown",
   "id": "357eacce",
   "metadata": {},
   "source": [
    "## Задание №1\n",
    "\n",
    "**Задание**:    \n",
    "У нас есть данные А/А-теста с `18 октября по 24 октября 2023 года`. Необходимо сделать симуляцию, как будто мы провели 10000 А/А-тестов. На каждой итерации необходимо сформировать подвыборки без повторения в 500 юзеров из 2 и 3 экспериментальной группы. Провести сравнение этих подвыборок t-testом.\n",
    "\n",
    "**Шаги выполнения задания:**\n",
    "1. Построить гистограмму распределения получившихся 10000 p-values.\n",
    "2. Посчитать, какой процент p values оказался меньше либо равен 0.05\n",
    "3. Написать вывод по проведенному А/А-тесту, корректно ли работает наша система сплитования."
   ]
  },
  {
   "cell_type": "code",
   "execution_count": 1,
   "id": "c9a6aae1",
   "metadata": {},
   "outputs": [],
   "source": [
    "# импортируем библиотеки\n",
    "from scipy import *\n",
    "import pandahouse as ph\n",
    "import pandas as pd\n",
    "import seaborn as sns\n",
    "import numpy as np\n",
    "from tqdm import tqdm\n",
    "\n",
    "# Сделаем графики в seaborn покрупнее\n",
    "sns.set(rc={'figure.figsize':(14, 10)})"
   ]
  },
  {
   "cell_type": "code",
   "execution_count": 2,
   "id": "ec22752b",
   "metadata": {},
   "outputs": [],
   "source": [
    "#параметры соединения - нужны, чтобы подключиться к нужной схеме данных\n",
    "connection = {'host': 'https://clickhouse.lab.karpov.courses',\n",
    "              'database':'simulator',\n",
    "              'user':'student',\n",
    "              'password':'dpo_python_2020'}"
   ]
  },
  {
   "cell_type": "code",
   "execution_count": 3,
   "id": "ccff4977",
   "metadata": {},
   "outputs": [
    {
     "data": {
      "text/html": [
       "<div>\n",
       "<style scoped>\n",
       "    .dataframe tbody tr th:only-of-type {\n",
       "        vertical-align: middle;\n",
       "    }\n",
       "\n",
       "    .dataframe tbody tr th {\n",
       "        vertical-align: top;\n",
       "    }\n",
       "\n",
       "    .dataframe thead th {\n",
       "        text-align: right;\n",
       "    }\n",
       "</style>\n",
       "<table border=\"1\" class=\"dataframe\">\n",
       "  <thead>\n",
       "    <tr style=\"text-align: right;\">\n",
       "      <th></th>\n",
       "      <th>exp_group</th>\n",
       "      <th>user_id</th>\n",
       "      <th>likes</th>\n",
       "      <th>views</th>\n",
       "      <th>ctr</th>\n",
       "    </tr>\n",
       "  </thead>\n",
       "  <tbody>\n",
       "    <tr>\n",
       "      <th>0</th>\n",
       "      <td>3</td>\n",
       "      <td>115383</td>\n",
       "      <td>38</td>\n",
       "      <td>248</td>\n",
       "      <td>0.153226</td>\n",
       "    </tr>\n",
       "    <tr>\n",
       "      <th>1</th>\n",
       "      <td>3</td>\n",
       "      <td>10326</td>\n",
       "      <td>24</td>\n",
       "      <td>132</td>\n",
       "      <td>0.181818</td>\n",
       "    </tr>\n",
       "    <tr>\n",
       "      <th>2</th>\n",
       "      <td>3</td>\n",
       "      <td>123580</td>\n",
       "      <td>25</td>\n",
       "      <td>122</td>\n",
       "      <td>0.204918</td>\n",
       "    </tr>\n",
       "    <tr>\n",
       "      <th>3</th>\n",
       "      <td>2</td>\n",
       "      <td>131473</td>\n",
       "      <td>19</td>\n",
       "      <td>98</td>\n",
       "      <td>0.193878</td>\n",
       "    </tr>\n",
       "    <tr>\n",
       "      <th>4</th>\n",
       "      <td>2</td>\n",
       "      <td>23985</td>\n",
       "      <td>12</td>\n",
       "      <td>44</td>\n",
       "      <td>0.272727</td>\n",
       "    </tr>\n",
       "  </tbody>\n",
       "</table>\n",
       "</div>"
      ],
      "text/plain": [
       "   exp_group  user_id  likes  views       ctr\n",
       "0          3   115383     38    248  0.153226\n",
       "1          3    10326     24    132  0.181818\n",
       "2          3   123580     25    122  0.204918\n",
       "3          2   131473     19     98  0.193878\n",
       "4          2    23985     12     44  0.272727"
      ]
     },
     "execution_count": 3,
     "metadata": {},
     "output_type": "execute_result"
    }
   ],
   "source": [
    "#формулируем запрос\n",
    "\n",
    "q = \"\"\"\n",
    "SELECT exp_group, \n",
    "    user_id,\n",
    "    sum(action = 'like') as likes,\n",
    "    sum(action = 'view') as views,\n",
    "    likes/views as ctr\n",
    "FROM simulator_20231113.feed_actions \n",
    "WHERE toDate(time) between '2023-10-18' and '2023-10-24'\n",
    "    and exp_group in (2,3)\n",
    "GROUP BY exp_group, user_id\n",
    "\"\"\"\n",
    "\n",
    "# сохраняем запрос в переменной df\n",
    "df = ph.read_clickhouse(q, connection=connection)\n",
    "\n",
    "#выведем 5 первых строк нашего датафрейма\n",
    "df.head()"
   ]
  },
  {
   "cell_type": "code",
   "execution_count": 4,
   "id": "e4f567bf",
   "metadata": {},
   "outputs": [
    {
     "data": {
      "text/html": [
       "<div>\n",
       "<style scoped>\n",
       "    .dataframe tbody tr th:only-of-type {\n",
       "        vertical-align: middle;\n",
       "    }\n",
       "\n",
       "    .dataframe tbody tr th {\n",
       "        vertical-align: top;\n",
       "    }\n",
       "\n",
       "    .dataframe thead th {\n",
       "        text-align: right;\n",
       "    }\n",
       "</style>\n",
       "<table border=\"1\" class=\"dataframe\">\n",
       "  <thead>\n",
       "    <tr style=\"text-align: right;\">\n",
       "      <th></th>\n",
       "      <th>user_id</th>\n",
       "      <th>likes</th>\n",
       "      <th>views</th>\n",
       "      <th>ctr</th>\n",
       "    </tr>\n",
       "    <tr>\n",
       "      <th>exp_group</th>\n",
       "      <th></th>\n",
       "      <th></th>\n",
       "      <th></th>\n",
       "      <th></th>\n",
       "    </tr>\n",
       "  </thead>\n",
       "  <tbody>\n",
       "    <tr>\n",
       "      <th>2</th>\n",
       "      <td>8362</td>\n",
       "      <td>8362</td>\n",
       "      <td>8362</td>\n",
       "      <td>8362</td>\n",
       "    </tr>\n",
       "    <tr>\n",
       "      <th>3</th>\n",
       "      <td>8425</td>\n",
       "      <td>8425</td>\n",
       "      <td>8425</td>\n",
       "      <td>8425</td>\n",
       "    </tr>\n",
       "  </tbody>\n",
       "</table>\n",
       "</div>"
      ],
      "text/plain": [
       "           user_id  likes  views   ctr\n",
       "exp_group                             \n",
       "2             8362   8362   8362  8362\n",
       "3             8425   8425   8425  8425"
      ]
     },
     "execution_count": 4,
     "metadata": {},
     "output_type": "execute_result"
    }
   ],
   "source": [
    "#проверяем равенство групп\n",
    "df.groupby('exp_group').count()"
   ]
  },
  {
   "cell_type": "markdown",
   "id": "13fe9a9e",
   "metadata": {},
   "source": [
    "Здесь всё хорошо, наши группы равны."
   ]
  },
  {
   "cell_type": "markdown",
   "id": "89eb5dc6",
   "metadata": {},
   "source": [
    "### Визуализация распределений ctr и проведение т-теста."
   ]
  },
  {
   "cell_type": "code",
   "execution_count": 5,
   "id": "008d5b5b",
   "metadata": {},
   "outputs": [
    {
     "data": {
      "image/png": "[encoded data removed]",
      "text/plain": [
       "<Figure size 1400x1000 with 1 Axes>"
      ]
     },
     "metadata": {},
     "output_type": "display_data"
    }
   ],
   "source": [
    "#построим гистограммы распределений наших групп\n",
    "groups = sns.histplot(data = df, \n",
    "              x='ctr', \n",
    "              hue='exp_group', \n",
    "              palette = ['r', 'b'],\n",
    "              alpha=0.5,\n",
    "              kde=False)"
   ]
  },
  {
   "cell_type": "markdown",
   "id": "3b0da1e3",
   "metadata": {},
   "source": [
    "По гистограмме распределения ctr наши группы очень похожи."
   ]
  },
  {
   "cell_type": "code",
   "execution_count": 6,
   "id": "90a6c6ef",
   "metadata": {},
   "outputs": [
    {
     "name": "stdout",
     "output_type": "stream",
     "text": [
      "T-Тест:\n",
      "p-value равен 0.5082\n",
      "Нет оснований считать, что распределения имеют различия\n"
     ]
    }
   ],
   "source": [
    "# проверим средние значения выборок с помощью критерия T-стьюдента\n",
    "T_stat, p_value = stats.ttest_ind(df.query('exp_group == 2').ctr, \n",
    "                df.query('exp_group == 3').ctr, \n",
    "                equal_var = False)\n",
    "\n",
    "alpha = 0.05\n",
    "\n",
    "print('T-Тест:')\n",
    "print(f'p-value равен {round(p_value, 4)}')    \n",
    "\n",
    "if p_value > alpha:\n",
    "    print('Нет оснований считать, что распределения имеют различия')\n",
    "else:\n",
    "    print('Есть основания считать, что распределения имеют различия')"
   ]
  },
  {
   "cell_type": "markdown",
   "id": "14ca7a74",
   "metadata": {},
   "source": [
    "**p-value > 0.05, поэтому у нас нет оснований предполагать, что средние значения двух выборок отличаются между собой**"
   ]
  },
  {
   "cell_type": "markdown",
   "id": "941b884c",
   "metadata": {},
   "source": [
    "### Моделирование 10000 A/A-тестов."
   ]
  },
  {
   "cell_type": "markdown",
   "id": "4d66a924",
   "metadata": {},
   "source": [
    "**Смоделируем 10000 А/А-тестов. На каждой итерации сформируем подвыборки без повторения в 500 юзеров из 2 и 3 экспериментальной группы. Проведем сравнение этих подвыборок t-testом.**"
   ]
  },
  {
   "cell_type": "code",
   "execution_count": 7,
   "id": "a962fd3f",
   "metadata": {},
   "outputs": [
    {
     "name": "stderr",
     "output_type": "stream",
     "text": [
      "100%|████████████████████████████████████| 10000/10000 [00:26<00:00, 377.44it/s]\n"
     ]
    }
   ],
   "source": [
    "# создадим пустой список, сохранив туда сгенерированные pvalue\n",
    "pvalue_list =[]\n",
    "\n",
    "for _ in tqdm(range(10000)):\n",
    "    sample_2 = df.query('exp_group == 2').sample(n=500,replace=False)\n",
    "    sample_3 = df.query('exp_group == 3').sample(n=500,replace=False)\n",
    "    statistic, pvalue = stats.ttest_ind(sample_2.ctr,\n",
    "                                     sample_3.ctr,\n",
    "                                     equal_var=False)\n",
    "    pvalue_list.append(pvalue)"
   ]
  },
  {
   "cell_type": "code",
   "execution_count": 8,
   "id": "3094c3d0",
   "metadata": {},
   "outputs": [
    {
     "data": {
      "image/png": "[encoded data removed]",
      "text/plain": [
       "<Figure size 800x600 with 1 Axes>"
      ]
     },
     "metadata": {},
     "output_type": "display_data"
    }
   ],
   "source": [
    "# построим гистограмму из полученных значений p-value\n",
    "sns.set(rc={'figure.figsize':(8, 6)})\n",
    "sns.histplot(data = pvalue_list);"
   ]
  },
  {
   "cell_type": "code",
   "execution_count": 9,
   "id": "fc445abe",
   "metadata": {},
   "outputs": [
    {
     "name": "stdout",
     "output_type": "stream",
     "text": [
      "В 4.7% случаев p_value оказался меньше либо равен 0.05\n"
     ]
    }
   ],
   "source": [
    "#Посчитаем, какой процент p-values оказался меньше либо равен 0.05\n",
    "\n",
    "print(f'В {len([i for i in pvalue_list if i <= 0.05]) / 100}% случаев p_value оказался меньше либо равен 0.05')"
   ]
  },
  {
   "cell_type": "markdown",
   "id": "7600a002",
   "metadata": {},
   "source": [
    "### Вывод"
   ]
  },
  {
   "cell_type": "markdown",
   "id": "12721623",
   "metadata": {},
   "source": [
    "**Сформулируем выводы после проведенного A/A теста:**\n",
    "1. По изначальной гистограмме распределения групп 2 и 3 очень схожи и \"на глаз\" не различимы.\n",
    "2. После моделирования 10000 A/A тестов только в 4.7% случаев p_value оказался меньше либо равен 0.05.\n",
    "\n",
    "**Таким образом, наша система сплитования работает корректно.**"
   ]
  },
  {
   "cell_type": "markdown",
   "id": "e327ef0c",
   "metadata": {},
   "source": [
    "## Задание №2"
   ]
  },
  {
   "cell_type": "markdown",
   "id": "9630ccd0",
   "metadata": {},
   "source": [
    "# Анализ данных проведенного A/B-теста \n",
    "\n",
    "Необходимо проанализировать результаты эксперимента, который мы провели вместе с командой дата-сайентистов. Эксперимент проходил с `2023-10-25 по 2023-10-31` включительно. Для эксперимента были задействованы 1 и 2 группы. \n",
    "\n",
    "**В группе 2 был использован один из новых алгоритмов рекомендации постов, группа 1 использовалась в качестве контроля.** \n",
    "\n",
    "Основная гипотеза заключается в том, что новый алгоритм во 2-й группе приведет к увеличению CTR. \n",
    "\n",
    "**Наша задача — проанализировать данные А/B-теста.**\n",
    "\n",
    "**Основные шаги:**\n",
    "\n",
    "1. Проведём A/A-тест 1 и 2 группы с 18 по 24 октября 2023 года и проверим, что группы до теста равны.\n",
    "2. Сравнить CTR в двух группах (с помощью t-тест, Пуассоновский бутстреп, тест Манна-Уитни, t-тест на сглаженном ctr (α=5) а также t-тест и тест Манна-Уитни поверх бакетного преобразования).\n",
    "3. Сравнить данные между этими тестами. Определить, почему тесты сработали именно так? \n",
    "4. Описать потенциальную ситуацию, когда такое изменение могло произойти.\n",
    "5. Написать рекомендацию, будем ли мы раскатывать новый алгоритм на всех новых пользователей?"
   ]
  },
  {
   "cell_type": "code",
   "execution_count": 10,
   "id": "0f14f03f",
   "metadata": {},
   "outputs": [],
   "source": [
    "# Сделаем графики в seaborn покрупнее\n",
    "sns.set(rc={'figure.figsize':(14, 10)})"
   ]
  },
  {
   "cell_type": "markdown",
   "id": "30b956dd",
   "metadata": {},
   "source": [
    "### A/A тест"
   ]
  },
  {
   "cell_type": "code",
   "execution_count": 11,
   "id": "019bbb96",
   "metadata": {},
   "outputs": [
    {
     "data": {
      "text/html": [
       "<div>\n",
       "<style scoped>\n",
       "    .dataframe tbody tr th:only-of-type {\n",
       "        vertical-align: middle;\n",
       "    }\n",
       "\n",
       "    .dataframe tbody tr th {\n",
       "        vertical-align: top;\n",
       "    }\n",
       "\n",
       "    .dataframe thead th {\n",
       "        text-align: right;\n",
       "    }\n",
       "</style>\n",
       "<table border=\"1\" class=\"dataframe\">\n",
       "  <thead>\n",
       "    <tr style=\"text-align: right;\">\n",
       "      <th></th>\n",
       "      <th>exp_group</th>\n",
       "      <th>user_id</th>\n",
       "      <th>likes</th>\n",
       "      <th>views</th>\n",
       "      <th>ctr</th>\n",
       "    </tr>\n",
       "  </thead>\n",
       "  <tbody>\n",
       "    <tr>\n",
       "      <th>0</th>\n",
       "      <td>1</td>\n",
       "      <td>109963</td>\n",
       "      <td>10</td>\n",
       "      <td>34</td>\n",
       "      <td>0.294118</td>\n",
       "    </tr>\n",
       "    <tr>\n",
       "      <th>1</th>\n",
       "      <td>1</td>\n",
       "      <td>18392</td>\n",
       "      <td>13</td>\n",
       "      <td>56</td>\n",
       "      <td>0.232143</td>\n",
       "    </tr>\n",
       "    <tr>\n",
       "      <th>2</th>\n",
       "      <td>2</td>\n",
       "      <td>131473</td>\n",
       "      <td>19</td>\n",
       "      <td>98</td>\n",
       "      <td>0.193878</td>\n",
       "    </tr>\n",
       "    <tr>\n",
       "      <th>3</th>\n",
       "      <td>2</td>\n",
       "      <td>23985</td>\n",
       "      <td>12</td>\n",
       "      <td>44</td>\n",
       "      <td>0.272727</td>\n",
       "    </tr>\n",
       "    <tr>\n",
       "      <th>4</th>\n",
       "      <td>2</td>\n",
       "      <td>24523</td>\n",
       "      <td>2</td>\n",
       "      <td>10</td>\n",
       "      <td>0.200000</td>\n",
       "    </tr>\n",
       "  </tbody>\n",
       "</table>\n",
       "</div>"
      ],
      "text/plain": [
       "   exp_group  user_id  likes  views       ctr\n",
       "0          1   109963     10     34  0.294118\n",
       "1          1    18392     13     56  0.232143\n",
       "2          2   131473     19     98  0.193878\n",
       "3          2    23985     12     44  0.272727\n",
       "4          2    24523      2     10  0.200000"
      ]
     },
     "execution_count": 11,
     "metadata": {},
     "output_type": "execute_result"
    }
   ],
   "source": [
    "#формулируем запрос\n",
    "\n",
    "q = \"\"\"\n",
    "SELECT exp_group, \n",
    "    user_id,\n",
    "    sum(action = 'like') as likes,\n",
    "    sum(action = 'view') as views,\n",
    "    likes/views as ctr\n",
    "FROM simulator_20231113.feed_actions \n",
    "WHERE toDate(time) between '2023-10-18' and '2023-10-24'\n",
    "    and exp_group in (1,2)\n",
    "GROUP BY exp_group, user_id\n",
    "\"\"\"\n",
    "\n",
    "# сохраняем запрос в переменной df\n",
    "df = ph.read_clickhouse(q, connection=connection)\n",
    "\n",
    "#выведем 5 первых строк нашего датафрейма\n",
    "df.head()"
   ]
  },
  {
   "cell_type": "code",
   "execution_count": 12,
   "id": "6b3fe36b",
   "metadata": {},
   "outputs": [
    {
     "data": {
      "text/html": [
       "<div>\n",
       "<style scoped>\n",
       "    .dataframe tbody tr th:only-of-type {\n",
       "        vertical-align: middle;\n",
       "    }\n",
       "\n",
       "    .dataframe tbody tr th {\n",
       "        vertical-align: top;\n",
       "    }\n",
       "\n",
       "    .dataframe thead th {\n",
       "        text-align: right;\n",
       "    }\n",
       "</style>\n",
       "<table border=\"1\" class=\"dataframe\">\n",
       "  <thead>\n",
       "    <tr style=\"text-align: right;\">\n",
       "      <th></th>\n",
       "      <th>user_id</th>\n",
       "      <th>likes</th>\n",
       "      <th>views</th>\n",
       "      <th>ctr</th>\n",
       "    </tr>\n",
       "    <tr>\n",
       "      <th>exp_group</th>\n",
       "      <th></th>\n",
       "      <th></th>\n",
       "      <th></th>\n",
       "      <th></th>\n",
       "    </tr>\n",
       "  </thead>\n",
       "  <tbody>\n",
       "    <tr>\n",
       "      <th>1</th>\n",
       "      <td>8491</td>\n",
       "      <td>8491</td>\n",
       "      <td>8491</td>\n",
       "      <td>8491</td>\n",
       "    </tr>\n",
       "    <tr>\n",
       "      <th>2</th>\n",
       "      <td>8362</td>\n",
       "      <td>8362</td>\n",
       "      <td>8362</td>\n",
       "      <td>8362</td>\n",
       "    </tr>\n",
       "  </tbody>\n",
       "</table>\n",
       "</div>"
      ],
      "text/plain": [
       "           user_id  likes  views   ctr\n",
       "exp_group                             \n",
       "1             8491   8491   8491  8491\n",
       "2             8362   8362   8362  8362"
      ]
     },
     "execution_count": 12,
     "metadata": {},
     "output_type": "execute_result"
    }
   ],
   "source": [
    "#проверяем равенство групп\n",
    "df.groupby('exp_group').count()"
   ]
  },
  {
   "cell_type": "markdown",
   "id": "becbdf5d",
   "metadata": {},
   "source": [
    "Группы наши почти равны."
   ]
  },
  {
   "cell_type": "markdown",
   "id": "75e5eace",
   "metadata": {},
   "source": [
    "**Построим распределение ctr 1 и 2 группы**"
   ]
  },
  {
   "cell_type": "code",
   "execution_count": 13,
   "id": "53ecd833",
   "metadata": {
    "scrolled": false
   },
   "outputs": [
    {
     "data": {
      "image/png": "[encoded data removed]",
      "text/plain": [
       "<Figure size 1400x1000 with 1 Axes>"
      ]
     },
     "metadata": {},
     "output_type": "display_data"
    }
   ],
   "source": [
    "# строим гистограмму для двух групп\n",
    "groups = sns.histplot(data = df, \n",
    "              x='ctr', \n",
    "              hue='exp_group', \n",
    "              palette = ['r', 'b'],\n",
    "              alpha=0.5,\n",
    "              kde=False)"
   ]
  },
  {
   "cell_type": "markdown",
   "id": "bbe99790",
   "metadata": {},
   "source": [
    "По гистограмме распределения ctr наши группы очень похожи."
   ]
  },
  {
   "cell_type": "code",
   "execution_count": 14,
   "id": "aa287476",
   "metadata": {},
   "outputs": [
    {
     "name": "stdout",
     "output_type": "stream",
     "text": [
      "T-Тест:\n",
      "p-value равен 0.569\n",
      "Нет оснований считать, что распределения имеют различия\n"
     ]
    }
   ],
   "source": [
    "# проверим средние значения выборок с помощью критерия T-стьюдента\n",
    "T_stat, p_value = stats.ttest_ind(df.query('exp_group == 1').ctr, \n",
    "                df.query('exp_group == 2').ctr, \n",
    "                equal_var = False)\n",
    "\n",
    "alpha = 0.05\n",
    "\n",
    "print('T-Тест:')\n",
    "print(f'p-value равен {round(p_value, 4)}')    \n",
    "\n",
    "if p_value > alpha:\n",
    "    print('Нет оснований считать, что распределения имеют различия')\n",
    "else:\n",
    "    print('Есть основания считать, что распределения имеют различия')"
   ]
  },
  {
   "cell_type": "markdown",
   "id": "a282a89e",
   "metadata": {},
   "source": [
    "### Данные для A/B-теста. Распределение ctr."
   ]
  },
  {
   "cell_type": "code",
   "execution_count": 15,
   "id": "251fe7ef",
   "metadata": {},
   "outputs": [
    {
     "data": {
      "text/html": [
       "<div>\n",
       "<style scoped>\n",
       "    .dataframe tbody tr th:only-of-type {\n",
       "        vertical-align: middle;\n",
       "    }\n",
       "\n",
       "    .dataframe tbody tr th {\n",
       "        vertical-align: top;\n",
       "    }\n",
       "\n",
       "    .dataframe thead th {\n",
       "        text-align: right;\n",
       "    }\n",
       "</style>\n",
       "<table border=\"1\" class=\"dataframe\">\n",
       "  <thead>\n",
       "    <tr style=\"text-align: right;\">\n",
       "      <th></th>\n",
       "      <th>exp_group</th>\n",
       "      <th>user_id</th>\n",
       "      <th>likes</th>\n",
       "      <th>views</th>\n",
       "      <th>ctr</th>\n",
       "    </tr>\n",
       "  </thead>\n",
       "  <tbody>\n",
       "    <tr>\n",
       "      <th>0</th>\n",
       "      <td>1</td>\n",
       "      <td>109963</td>\n",
       "      <td>3</td>\n",
       "      <td>15</td>\n",
       "      <td>0.200000</td>\n",
       "    </tr>\n",
       "    <tr>\n",
       "      <th>1</th>\n",
       "      <td>1</td>\n",
       "      <td>26117</td>\n",
       "      <td>32</td>\n",
       "      <td>141</td>\n",
       "      <td>0.226950</td>\n",
       "    </tr>\n",
       "    <tr>\n",
       "      <th>2</th>\n",
       "      <td>1</td>\n",
       "      <td>138232</td>\n",
       "      <td>18</td>\n",
       "      <td>73</td>\n",
       "      <td>0.246575</td>\n",
       "    </tr>\n",
       "    <tr>\n",
       "      <th>3</th>\n",
       "      <td>1</td>\n",
       "      <td>18392</td>\n",
       "      <td>7</td>\n",
       "      <td>32</td>\n",
       "      <td>0.218750</td>\n",
       "    </tr>\n",
       "    <tr>\n",
       "      <th>4</th>\n",
       "      <td>1</td>\n",
       "      <td>26295</td>\n",
       "      <td>39</td>\n",
       "      <td>141</td>\n",
       "      <td>0.276596</td>\n",
       "    </tr>\n",
       "  </tbody>\n",
       "</table>\n",
       "</div>"
      ],
      "text/plain": [
       "   exp_group  user_id  likes  views       ctr\n",
       "0          1   109963      3     15  0.200000\n",
       "1          1    26117     32    141  0.226950\n",
       "2          1   138232     18     73  0.246575\n",
       "3          1    18392      7     32  0.218750\n",
       "4          1    26295     39    141  0.276596"
      ]
     },
     "execution_count": 15,
     "metadata": {},
     "output_type": "execute_result"
    }
   ],
   "source": [
    "#формулируем запрос\n",
    "q = \"\"\"\n",
    "SELECT exp_group, \n",
    "    user_id,\n",
    "    sum(action = 'like') as likes,\n",
    "    sum(action = 'view') as views,\n",
    "    likes/views as ctr\n",
    "FROM simulator_20231113.feed_actions \n",
    "WHERE toDate(time) between '2023-10-25' and '2023-10-31'\n",
    "    and exp_group in (1, 2)\n",
    "GROUP BY exp_group, user_id\n",
    "\"\"\"\n",
    "\n",
    "# сохраняем запрос в переменной df\n",
    "df = ph.read_clickhouse(q, connection=connection)\n",
    "\n",
    "df.head()"
   ]
  },
  {
   "cell_type": "code",
   "execution_count": 16,
   "id": "a1e0e07e",
   "metadata": {},
   "outputs": [
    {
     "data": {
      "text/html": [
       "<div>\n",
       "<style scoped>\n",
       "    .dataframe tbody tr th:only-of-type {\n",
       "        vertical-align: middle;\n",
       "    }\n",
       "\n",
       "    .dataframe tbody tr th {\n",
       "        vertical-align: top;\n",
       "    }\n",
       "\n",
       "    .dataframe thead th {\n",
       "        text-align: right;\n",
       "    }\n",
       "</style>\n",
       "<table border=\"1\" class=\"dataframe\">\n",
       "  <thead>\n",
       "    <tr style=\"text-align: right;\">\n",
       "      <th></th>\n",
       "      <th>user_id</th>\n",
       "      <th>likes</th>\n",
       "      <th>views</th>\n",
       "      <th>ctr</th>\n",
       "    </tr>\n",
       "    <tr>\n",
       "      <th>exp_group</th>\n",
       "      <th></th>\n",
       "      <th></th>\n",
       "      <th></th>\n",
       "      <th></th>\n",
       "    </tr>\n",
       "  </thead>\n",
       "  <tbody>\n",
       "    <tr>\n",
       "      <th>1</th>\n",
       "      <td>10020</td>\n",
       "      <td>10020</td>\n",
       "      <td>10020</td>\n",
       "      <td>10020</td>\n",
       "    </tr>\n",
       "    <tr>\n",
       "      <th>2</th>\n",
       "      <td>9877</td>\n",
       "      <td>9877</td>\n",
       "      <td>9877</td>\n",
       "      <td>9877</td>\n",
       "    </tr>\n",
       "  </tbody>\n",
       "</table>\n",
       "</div>"
      ],
      "text/plain": [
       "           user_id  likes  views    ctr\n",
       "exp_group                              \n",
       "1            10020  10020  10020  10020\n",
       "2             9877   9877   9877   9877"
      ]
     },
     "execution_count": 16,
     "metadata": {},
     "output_type": "execute_result"
    }
   ],
   "source": [
    "#проверяем равенство групп\n",
    "df.groupby('exp_group').count()"
   ]
  },
  {
   "cell_type": "code",
   "execution_count": 17,
   "id": "06854f02",
   "metadata": {},
   "outputs": [
    {
     "data": {
      "image/png": "[encoded data removed]",
      "text/plain": [
       "<Figure size 1400x1000 with 1 Axes>"
      ]
     },
     "metadata": {},
     "output_type": "display_data"
    }
   ],
   "source": [
    "# строим гистограмму для двух групп\n",
    "groups = sns.histplot(data = df, \n",
    "              x='ctr', \n",
    "              hue='exp_group', \n",
    "              palette = ['r', 'b'],\n",
    "              alpha=0.5,\n",
    "              kde=False)"
   ]
  },
  {
   "cell_type": "code",
   "execution_count": 18,
   "id": "08e62f16",
   "metadata": {},
   "outputs": [
    {
     "data": {
      "text/plain": [
       "exp_group\n",
       "1    0.216774\n",
       "2    0.216102\n",
       "Name: ctr, dtype: float64"
      ]
     },
     "execution_count": 18,
     "metadata": {},
     "output_type": "execute_result"
    }
   ],
   "source": [
    "# выведем средние значения для двух групп\n",
    "df.groupby('exp_group')['ctr'].mean()"
   ]
  },
  {
   "cell_type": "markdown",
   "id": "e2a82405",
   "metadata": {},
   "source": [
    "Интересно, что вторая группа имеет бимодальное распределение.  \n",
    "Несмотря на то, что на гистограмме мы видим сильные различия между распределениями, есть предположение, что Т-тест покажет, что значимых отличий между группами нет. Это предположение связано с тем, что т-тест сравнивает средние двух выборок, а они, по нашей простой группировке, равны. Проверим это дальше."
   ]
  },
  {
   "cell_type": "markdown",
   "id": "6d3fe904",
   "metadata": {},
   "source": [
    "### Результаты A/B тестов с помощью Т-теста и теста Манна-Уитни."
   ]
  },
  {
   "cell_type": "code",
   "execution_count": 19,
   "id": "e9f10e24",
   "metadata": {},
   "outputs": [
    {
     "name": "stdout",
     "output_type": "stream",
     "text": [
      "T-Тест:\n",
      "p-value равен 0.6854\n",
      "Нет оснований считать, что распределения имеют различия\n"
     ]
    }
   ],
   "source": [
    "# проверим средние значения выборок с помощью критерия T-стьюдента\n",
    "T_stat, p_value = stats.ttest_ind(df[df.exp_group == 1].ctr, \n",
    "                  df[df.exp_group == 2].ctr,\n",
    "                  equal_var = False)\n",
    "\n",
    "alpha = 0.05\n",
    "\n",
    "print('T-Тест:')\n",
    "print(f'p-value равен {round(p_value, 4)}')    \n",
    "\n",
    "if p_value > alpha:\n",
    "    print('Нет оснований считать, что распределения имеют различия')\n",
    "else:\n",
    "    print('Есть основания считать, что распределения имеют различия')"
   ]
  },
  {
   "cell_type": "code",
   "execution_count": 20,
   "id": "e747998e",
   "metadata": {},
   "outputs": [
    {
     "name": "stdout",
     "output_type": "stream",
     "text": [
      "Манна-Уитни:\n",
      "p-value равен 4.632205841806026e-45\n",
      "Есть основания считать, что распределения имеют различия\n"
     ]
    }
   ],
   "source": [
    "# проверим значения выборок с помощью теста Манна-Уитни\n",
    "stat, p_value = stats.mannwhitneyu(df[df.exp_group == 1].ctr, \n",
    "                   df[df.exp_group == 2].ctr,\n",
    "                   alternative = 'two-sided')\n",
    "\n",
    "print('Манна-Уитни:')\n",
    "print(f'p-value равен {p_value}')    \n",
    "\n",
    "if p_value > alpha:\n",
    "    print('Нет оснований считать, что распределения имеют различия')\n",
    "else:\n",
    "    print('Есть основания считать, что распределения имеют различия')"
   ]
  },
  {
   "cell_type": "markdown",
   "id": "a4932d7f",
   "metadata": {},
   "source": [
    "**Стандартные T-test и тест Манна-Уитни показывают противоположные результаты. Это логично, ведь T-критерий Стьюдента сравнивает средние двух выборок, а Манна-Уитни ранги.**"
   ]
  },
  {
   "cell_type": "markdown",
   "id": "7ae29038",
   "metadata": {},
   "source": [
    "### Т-тест на сглаженном ctr."
   ]
  },
  {
   "cell_type": "code",
   "execution_count": 21,
   "id": "8f8ef9e6",
   "metadata": {},
   "outputs": [],
   "source": [
    "# функция для сглаженного ctr\n",
    "def get_smothed_ctr(user_likes, user_views, global_ctr, alpha):\n",
    "    smothed_ctr = (user_likes + alpha * global_ctr) / (user_views + alpha)\n",
    "    return smothed_ctr"
   ]
  },
  {
   "cell_type": "code",
   "execution_count": 22,
   "id": "544bfe17",
   "metadata": {},
   "outputs": [],
   "source": [
    "#рассчитаем глобальный ctr\n",
    "global_ctr_1 = df[df.exp_group == 1].likes.sum()/df[df.exp_group == 1].views.sum()\n",
    "global_ctr_2 = df[df.exp_group == 2].likes.sum()/df[df.exp_group == 2].views.sum()"
   ]
  },
  {
   "cell_type": "code",
   "execution_count": 23,
   "id": "ef9a2fc8",
   "metadata": {},
   "outputs": [],
   "source": [
    "group1 = df[df.exp_group == 1].copy()\n",
    "group2 = df[df.exp_group == 2].copy()\n",
    "\n",
    "#рассчитаем сглаженный ctr для двух групп\n",
    "group1['smothed_ctr'] = df.apply(\n",
    "    lambda x: get_smothed_ctr(x['likes'], x['views'], global_ctr_1, 5), axis=1)\n",
    "group2['smothed_ctr'] = df.apply(\n",
    "    lambda x: get_smothed_ctr(x['likes'], x['views'], global_ctr_2, 5), axis=1)"
   ]
  },
  {
   "cell_type": "code",
   "execution_count": 24,
   "id": "3ab2abe0",
   "metadata": {},
   "outputs": [
    {
     "name": "stdout",
     "output_type": "stream",
     "text": [
      "T-Тест на сглаженном ctr:\n",
      "p-value равен 0.0517\n",
      "Нет оснований считать, что распределения имеют различия\n"
     ]
    }
   ],
   "source": [
    "# проверим средние значения выборок с помощью критерия T-стьюдента\n",
    "T_stat, p_value = stats.ttest_ind(group1.smothed_ctr, \n",
    "                group2.smothed_ctr, \n",
    "                equal_var = False)\n",
    "\n",
    "alpha = 0.05\n",
    "\n",
    "print('T-Тест на сглаженном ctr:')\n",
    "print(f'p-value равен {round(p_value, 4)}')    \n",
    "\n",
    "if p_value > alpha:\n",
    "    print('Нет оснований считать, что распределения имеют различия')\n",
    "else:\n",
    "    print('Есть основания считать, что распределения имеют различия')"
   ]
  },
  {
   "cell_type": "markdown",
   "id": "9cccc9bf",
   "metadata": {},
   "source": [
    "**Результаты p-value на сглаженном ctr схожи, что и для обычного ctr. Т-тест не показывает отличия между группами.**"
   ]
  },
  {
   "cell_type": "markdown",
   "id": "7e76bfd8",
   "metadata": {},
   "source": [
    "### Пуассоновский бутстреп"
   ]
  },
  {
   "cell_type": "code",
   "execution_count": 25,
   "id": "d184b119",
   "metadata": {},
   "outputs": [],
   "source": [
    "#функция рассчета пуассоновского бутстрепа\n",
    "def bootstrap(likes1, views1, likes2, views2, n_bootstrap=2000):\n",
    "\n",
    "    poisson_bootstraps1 = stats.poisson(1).rvs(\n",
    "        (n_bootstrap, len(likes1))).astype(np.int64)\n",
    "\n",
    "    poisson_bootstraps2 = stats.poisson(1).rvs(\n",
    "            (n_bootstrap, len(likes2))).astype(np.int64)\n",
    "    \n",
    "    globalCTR1 = (poisson_bootstraps1*likes1).sum(axis=1)/(poisson_bootstraps1*views1).sum(axis=1)\n",
    "    globalCTR2 = (poisson_bootstraps2*likes2).sum(axis=1)/(poisson_bootstraps2*views2).sum(axis=1)\n",
    "\n",
    "    return globalCTR1, globalCTR2"
   ]
  },
  {
   "cell_type": "code",
   "execution_count": 26,
   "id": "fcb60fc0",
   "metadata": {},
   "outputs": [],
   "source": [
    "likes1 = df[df.exp_group == 1].likes.to_numpy()\n",
    "views1 = df[df.exp_group == 1].views.to_numpy()\n",
    "likes2 = df[df.exp_group == 2].likes.to_numpy()\n",
    "views2 = df[df.exp_group == 2].views.to_numpy()\n",
    "\n",
    "ctr1, ctr2 = bootstrap(likes1, views1, likes2, views2)"
   ]
  },
  {
   "cell_type": "code",
   "execution_count": 27,
   "id": "5fbdceae",
   "metadata": {},
   "outputs": [
    {
     "data": {
      "image/png": "[encoded data removed]",
      "text/plain": [
       "<Figure size 1400x1000 with 1 Axes>"
      ]
     },
     "metadata": {},
     "output_type": "display_data"
    }
   ],
   "source": [
    "sns.histplot(ctr1)\n",
    "sns.histplot(ctr2, color = 'r');"
   ]
  },
  {
   "cell_type": "code",
   "execution_count": 28,
   "id": "4606d59d",
   "metadata": {},
   "outputs": [
    {
     "data": {
      "image/png": "[encoded data removed]",
      "text/plain": [
       "<Figure size 1400x1000 with 1 Axes>"
      ]
     },
     "metadata": {},
     "output_type": "display_data"
    }
   ],
   "source": [
    "# Построим разницу между глобальными CTR\n",
    "sns.histplot(ctr2 - ctr1);"
   ]
  },
  {
   "cell_type": "markdown",
   "id": "8654f2d5",
   "metadata": {},
   "source": [
    "**Поскольку разница между двумя ctr строго отрицательна, это значит, что ctr выше в контрольной группе, в которой мы не проводили изменений.**"
   ]
  },
  {
   "cell_type": "markdown",
   "id": "9bba95bd",
   "metadata": {},
   "source": [
    "### t-тест и тест Манна-Уитни поверх бакетного преобразования"
   ]
  },
  {
   "cell_type": "code",
   "execution_count": 29,
   "id": "e3721e6a",
   "metadata": {},
   "outputs": [
    {
     "data": {
      "text/html": [
       "<div>\n",
       "<style scoped>\n",
       "    .dataframe tbody tr th:only-of-type {\n",
       "        vertical-align: middle;\n",
       "    }\n",
       "\n",
       "    .dataframe tbody tr th {\n",
       "        vertical-align: top;\n",
       "    }\n",
       "\n",
       "    .dataframe thead th {\n",
       "        text-align: right;\n",
       "    }\n",
       "</style>\n",
       "<table border=\"1\" class=\"dataframe\">\n",
       "  <thead>\n",
       "    <tr style=\"text-align: right;\">\n",
       "      <th></th>\n",
       "      <th>exp_group</th>\n",
       "      <th>bucket</th>\n",
       "      <th>bucket_ctr</th>\n",
       "    </tr>\n",
       "  </thead>\n",
       "  <tbody>\n",
       "    <tr>\n",
       "      <th>0</th>\n",
       "      <td>1</td>\n",
       "      <td>0</td>\n",
       "      <td>0.200592</td>\n",
       "    </tr>\n",
       "    <tr>\n",
       "      <th>1</th>\n",
       "      <td>2</td>\n",
       "      <td>0</td>\n",
       "      <td>0.196510</td>\n",
       "    </tr>\n",
       "    <tr>\n",
       "      <th>2</th>\n",
       "      <td>1</td>\n",
       "      <td>1</td>\n",
       "      <td>0.208799</td>\n",
       "    </tr>\n",
       "    <tr>\n",
       "      <th>3</th>\n",
       "      <td>2</td>\n",
       "      <td>1</td>\n",
       "      <td>0.210375</td>\n",
       "    </tr>\n",
       "    <tr>\n",
       "      <th>4</th>\n",
       "      <td>1</td>\n",
       "      <td>2</td>\n",
       "      <td>0.204632</td>\n",
       "    </tr>\n",
       "  </tbody>\n",
       "</table>\n",
       "</div>"
      ],
      "text/plain": [
       "   exp_group  bucket  bucket_ctr\n",
       "0          1       0    0.200592\n",
       "1          2       0    0.196510\n",
       "2          1       1    0.208799\n",
       "3          2       1    0.210375\n",
       "4          1       2    0.204632"
      ]
     },
     "execution_count": 29,
     "metadata": {},
     "output_type": "execute_result"
    }
   ],
   "source": [
    "q = \"\"\"\n",
    "\n",
    "SELECT exp_group, \n",
    "    bucket,\n",
    "    sum(likes)/sum(views) as bucket_ctr\n",
    "FROM (SELECT exp_group, \n",
    "        xxHash64(user_id) % 50 as bucket,\n",
    "        user_id,\n",
    "        sum(action = 'like') as likes,\n",
    "        sum(action = 'view') as views,\n",
    "        likes/views as ctr\n",
    "    FROM simulator_20231113.feed_actions \n",
    "    WHERE toDate(time) between '2023-10-25' and '2023-10-31'\n",
    "        and exp_group in (1,2)\n",
    "    GROUP BY exp_group, bucket, user_id)\n",
    "GROUP BY exp_group, bucket\n",
    "\"\"\"\n",
    "\n",
    "bucket = ph.read_clickhouse(q, connection=connection)\n",
    "bucket.head()"
   ]
  },
  {
   "cell_type": "code",
   "execution_count": 30,
   "id": "a5dd94f3",
   "metadata": {},
   "outputs": [
    {
     "data": {
      "image/png": "[encoded data removed]",
      "text/plain": [
       "<Figure size 1400x1000 with 1 Axes>"
      ]
     },
     "metadata": {},
     "output_type": "display_data"
    }
   ],
   "source": [
    "# строим гистограмму для двух групп\n",
    "groups = sns.histplot(data = bucket, \n",
    "              x='bucket_ctr', \n",
    "              hue='exp_group', \n",
    "              palette = ['r', 'b'],\n",
    "              alpha=0.5,\n",
    "              kde=False)"
   ]
  },
  {
   "cell_type": "markdown",
   "id": "36f15e64",
   "metadata": {},
   "source": [
    "На гистограмме видим большие отличия между группами."
   ]
  },
  {
   "cell_type": "code",
   "execution_count": 31,
   "id": "2d49636c",
   "metadata": {},
   "outputs": [
    {
     "name": "stdout",
     "output_type": "stream",
     "text": [
      "T-Тест поверх бакетного преобразования:\n",
      "p-value равен 4.592644937473873e-07\n",
      "Есть основания считать, что распределения имеют различия\n"
     ]
    }
   ],
   "source": [
    "# проверим средние значения выборок с помощью критерия T-стьюдента\n",
    "T_stat, p_value = stats.ttest_ind(bucket[bucket.exp_group == 1].bucket_ctr, \n",
    "                bucket[bucket.exp_group == 2].bucket_ctr, \n",
    "                equal_var = False)\n",
    "\n",
    "alpha = 0.05\n",
    "\n",
    "print('T-Тест поверх бакетного преобразования:')\n",
    "print(f'p-value равен {p_value}')    \n",
    "\n",
    "if p_value > alpha:\n",
    "    print('Нет оснований считать, что распределения имеют различия')\n",
    "else:\n",
    "    print('Есть основания считать, что распределения имеют различия')"
   ]
  },
  {
   "cell_type": "code",
   "execution_count": 32,
   "id": "57a75458",
   "metadata": {},
   "outputs": [
    {
     "name": "stdout",
     "output_type": "stream",
     "text": [
      "Манна-Уитни поверх бакетного преобразования:\n",
      "p-value равен 2.657642780401009e-07\n",
      "Есть основания считать, что распределения имеют различия\n"
     ]
    }
   ],
   "source": [
    "# проверим значения выборок с помощью теста Манна_Уитни\n",
    "stat, p_value = stats.mannwhitneyu(bucket[bucket.exp_group == 1].bucket_ctr, \n",
    "                bucket[bucket.exp_group == 2].bucket_ctr,\n",
    "                   alternative = 'two-sided')\n",
    "\n",
    "print('Манна-Уитни поверх бакетного преобразования:')\n",
    "print(f'p-value равен {p_value}')    \n",
    "\n",
    "if p_value > alpha:\n",
    "    print('Нет оснований считать, что распределения имеют различия')\n",
    "else:\n",
    "    print('Есть основания считать, что распределения имеют различия')"
   ]
  },
  {
   "cell_type": "markdown",
   "id": "daabd639",
   "metadata": {},
   "source": [
    "**Оба теста показали отличия между группами.**"
   ]
  },
  {
   "cell_type": "markdown",
   "id": "ec9c3ebe",
   "metadata": {},
   "source": [
    "### Вывод"
   ]
  },
  {
   "cell_type": "markdown",
   "id": "9bd2ac2b",
   "metadata": {},
   "source": [
    "Наша основная гипотеза заключалась в том, что новый алгоритм во 2-й группе приведет к увеличению CTR. Мы проанализировали результаты A/B теста с помощью разных методов:\n",
    "- посмотрели на наши данные визуально, \n",
    "- т-тест и тест Манна-Уитни,\n",
    "- т-тест на сглаженном ctr\n",
    "- пуассоновский бутстреп\n",
    "- т-тест и тест Манна_Уитни поверх бакетного преобразования.\n",
    "\n",
    "**И мы можем выделить следующие результаты:**\n",
    "\n",
    "1. Глядя на гистограммы распределений двух групп, мы видим сильные отличия. Тестовая группа имеет бимодальное распределение.\n",
    "2. Стандартный т-тест и т-тест на сглаженном ctr отличий между группами не выявили, это связано с бимодальным распределением в тестовой группе.\n",
    "3. Тест Манна-Уитни показал, что группы имеют отличия.\n",
    "4. Пуассоновский бутстрэп показал отличия между группами, причем в контрольной группе ctr оказался выше.\n",
    "5. Оба теста поверх бакетного преобразования показали отличия между группами.\n",
    "\n",
    "Нам необходимо понять, с чем связано бимодальное распределение в тестовой группе. Можно предположить, что это связано с привыканием пользователей к новым рекомендациям или рекомендации корректировались в процессе теста.\n",
    "\n",
    "**Раскатывать новый алгоритм на всех новых пользователей пока не стоит. Рекомендую проанализировать детальнее полученные результаты и повторить наш тест.**"
   ]
  }
 ],
 "metadata": {
  "kernelspec": {
   "display_name": "Python 3 (ipykernel)",
   "language": "python",
   "name": "python3"
  },
  "language_info": {
   "codemirror_mode": {
    "name": "ipython",
    "version": 3
   },
   "file_extension": ".py",
   "mimetype": "text/x-python",
   "name": "python",
   "nbconvert_exporter": "python",
   "pygments_lexer": "ipython3",
   "version": "3.9.13"
  },
  "toc": {
   "base_numbering": 1,
   "nav_menu": {},
   "number_sections": true,
   "sideBar": true,
   "skip_h1_title": true,
   "title_cell": "Table of Contents",
   "title_sidebar": "Contents",
   "toc_cell": false,
   "toc_position": {
    "height": "calc(100% - 180px)",
    "left": "10px",
    "top": "150px",
    "width": "341.333px"
   },
   "toc_section_display": true,
   "toc_window_display": true
  }
 },
 "nbformat": 4,
 "nbformat_minor": 5
}
